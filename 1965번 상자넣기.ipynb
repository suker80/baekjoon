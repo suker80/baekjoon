{
 "cells": [
  {
   "cell_type": "markdown",
   "metadata": {},
   "source": [
    "# 1965번 상자넣기\n",
    "#### 알고리즘 분류: 다이나믹 프로그래밍 \n",
    "https://www.acmicpc.net/problem/1965\n",
    "\n",
    "정육면체 모양의 상자가 일렬로 늘어서 있다. 상자마다 크기가 주어져 있는데, 앞에 있는 상자의 크기가 뒤에 있는 상자의 크기보다 작으면, 앞에 있는 상자를 뒤에 있는 상자 안에 넣을 수가 있다. 예를 들어 앞에서부터 순서대로 크기가 (1, 5, 2, 3, 7)인 5개의 상자가 있다면, 크기 1인 상자를 크기 5인 상자에 넣고, 다시 이 상자를 크기 7인 상자 안에 넣을 수 있다. 하지만 이렇게 상자를 넣을 수 있는 방법은 여러 가지가 있을 수 있다. 앞의 예에서 차례대로 크기가 1, 2, 3, 7인 상자를 선택하면 총 4개의 상자가 한 개의 상자에 들어가게 된다.\n",
    "\n",
    "상자의 크기가 주어질 때, 한 번에 넣을 수 있는 최대의 상자 개수를 출력하는 프로그램을 작성하시오."
   ]
  },
  {
   "cell_type": "code",
   "execution_count": 18,
   "metadata": {},
   "outputs": [
    {
     "name": "stdout",
     "output_type": "stream",
     "text": [
      "6\n",
      "2 3 1 4 5 6\n",
      "5\n"
     ]
    }
   ],
   "source": [
    "n = int(input())\n",
    "boxes = list(map(int,input().split()))\n",
    "\n",
    "dp = [boxes[0]]\n",
    "\n",
    "def lowerBound(lst, key):\n",
    "    start ,end = 0,len(lst) -1\n",
    "    while start < end:\n",
    "        mid = (start + end) // 2\n",
    "        if lst[mid] == key:\n",
    "            end = mid\n",
    "        elif key < lst[mid]:\n",
    "            end = mid\n",
    "        elif lst[mid] < key:\n",
    "            start = mid + 1\n",
    "    return end\n",
    "## key보다 큰것들 중에 가장 작은 값을 찾는다\n",
    "\n",
    "\n",
    "for i in range(1,n):\n",
    "    if dp[-1]<boxes[i]:\n",
    "        dp.append(boxes[i])\n",
    "    elif dp[-1] > boxes[i]:\n",
    "        idx = lowerBound(dp,boxes[i])\n",
    "        dp[idx] = boxes[i]\n",
    "\n",
    "print(len(dp))"
   ]
  }
 ],
 "metadata": {
  "kernelspec": {
   "display_name": "Python 3",
   "language": "python",
   "name": "python3"
  },
  "language_info": {
   "codemirror_mode": {
    "name": "ipython",
    "version": 3
   },
   "file_extension": ".py",
   "mimetype": "text/x-python",
   "name": "python",
   "nbconvert_exporter": "python",
   "pygments_lexer": "ipython3",
   "version": "3.6.5"
  }
 },
 "nbformat": 4,
 "nbformat_minor": 4
}
