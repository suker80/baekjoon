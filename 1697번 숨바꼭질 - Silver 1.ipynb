{
 "cells": [
  {
   "cell_type": "markdown",
   "metadata": {},
   "source": [
    "# 1697번 숨바꼭질 -\n",
    "#### 알고리즘 분류: 그래프 이론 , 그래프 탐색 ,너비 우선 탐색\n",
    "\n",
    "https://www.acmicpc.net/problem/1697\n",
    "\n",
    "수빈이는 동생과 숨바꼭질을 하고 있다. 수빈이는 현재 점 N(0 ≤ N ≤ 100,000)에 있고, 동생은 점 K(0 ≤ K ≤ 100,000)에 있다. 수빈이는 걷거나 순간이동을 할 수 있다. 만약, 수빈이의 위치가 X일 때 걷는다면 1초 후에 X-1 또는 X+1로 이동하게 된다. 순간이동을 하는 경우에는 1초 후에 2*X의 위치로 이동하게 된다.\n",
    "\n",
    "수빈이와 동생의 위치가 주어졌을 때, 수빈이가 동생을 찾을 수 있는 가장 빠른 시간이 몇 초 후인지 구하는 프로그램을 작성하시오."
   ]
  },
  {
   "cell_type": "code",
   "execution_count": null,
   "metadata": {},
   "outputs": [],
   "source": [
    "n, k = map(int, input().split())\n",
    "\n",
    "from collections import deque\n",
    "from collections import defaultdict\n",
    "\n",
    "\n",
    "def default_visit():\n",
    "    return False\n",
    "def default_time():\n",
    "    return 0\n",
    "\n",
    "time_dic = defaultdict(default_time, n=0)\n",
    "visited =  defaultdict(default_visit, n=True)\n",
    "\n",
    "queue = deque([n])\n",
    "\n",
    "while queue:\n",
    "\n",
    "    current_pos = queue.popleft()\n",
    "\n",
    "    next_pos = [current_pos - 1, current_pos + 1, current_pos * 2]\n",
    "    if current_pos == k:\n",
    "        print(time_dic[current_pos])\n",
    "        break\n",
    "\n",
    "    for n in next_pos:\n",
    "        if 0 <= n <= 100000 and visited[n] is False:\n",
    "            queue.append(n)\n",
    "            visited[n] = True\n",
    "            time_dic[n] = time_dic[current_pos] + 1"
   ]
  }
 ],
 "metadata": {
  "kernelspec": {
   "display_name": "Python 3",
   "language": "python",
   "name": "python3"
  },
  "language_info": {
   "codemirror_mode": {
    "name": "ipython",
    "version": 3
   },
   "file_extension": ".py",
   "mimetype": "text/x-python",
   "name": "python",
   "nbconvert_exporter": "python",
   "pygments_lexer": "ipython3",
   "version": "3.6.5"
  }
 },
 "nbformat": 4,
 "nbformat_minor": 4
}
