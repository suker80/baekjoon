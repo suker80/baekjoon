{
 "cells": [
  {
   "cell_type": "markdown",
   "metadata": {},
   "source": [
    "# 1743번 음식물 피하기 - Silver 1 \n",
    "#### 알고리즘 분류: 그래프 탐색 , 너비 우선 탐색 , 깊이 우선 탐색\n",
    "\n",
    "https://www.acmicpc.net/problem/1743\n",
    "\n",
    "코레스코 콘도미니엄 8층은 학생들이 3끼의 식사를 해결하는 공간이다. 그러나 몇몇 비양심적인 학생들의 만행으로 음식물이 통로 중간 중간에 떨어져 있다. 이러한 음식물들은 근처에 있는 것끼리 뭉치게 돼서 큰 음식물 쓰레기가 된다. \n",
    "\n",
    "이 문제를 출제한 선생님은 개인적으로 이러한 음식물을 실내화에 묻히는 것을 정말 진정으로 싫어한다. 참고로 우리가 구해야 할 답은 이 문제를 낸 조교를 맞추는 것이 아니다. \n",
    "\n",
    "통로에 떨어진 음식물을 피해가기란 쉬운 일이 아니다. 따라서 선생님은 떨어진 음식물 중에 제일 큰 음식물만은 피해 가려고 한다. \n",
    "\n",
    "선생님을 도와 제일 큰 음식물의 크기를 구해서 “10ra\"를 외치지 않게 도와주자."
   ]
  },
  {
   "cell_type": "code",
   "execution_count": null,
   "metadata": {},
   "outputs": [],
   "source": [
    "n, m, k = map(int, input().split())\n",
    "\n",
    "graph = [[]]\n",
    "visit = [[]]\n",
    "for i in range(n):\n",
    "    graph.append([0] * (m + 1))\n",
    "    visit.append([0] * (m + 1))\n",
    "for i in range(k):\n",
    "    i, j = map(int, input().split())\n",
    "    graph[i][j] = 1\n",
    "\n",
    "\n",
    "def dfs(start, visit):\n",
    "    queue = deque([start])\n",
    "    count = 1\n",
    "    while queue:\n",
    "        x, y = queue.popleft()\n",
    "        visit[x][y] = 1\n",
    "\n",
    "        for dx, dy in direction:\n",
    "            nx, ny = x + dx, y + dy\n",
    "            if 0 < nx <= n and 0 < ny <= m and visit[nx][ny] == 0 and graph[nx][ny] == 1:\n",
    "                queue.append((nx, ny))\n",
    "                visit[nx][ny] = 1\n",
    "                count += 1\n",
    "    return count, visit\n",
    "\n",
    "\n",
    "direction = [(-1, 0), (1, 0), (0, -1), (0, 1)]  # up down left right\n",
    "from collections import deque\n",
    "\n",
    "queue = deque()\n",
    "output = []\n",
    "for i in range(1, n + 1):\n",
    "    for j in range(1, m + 1):\n",
    "        if graph[i][j] == 1:\n",
    "            count, visit = dfs((i, j), visit)\n",
    "            output.append(count)\n",
    "print(max(output))"
   ]
  }
 ],
 "metadata": {
  "kernelspec": {
   "display_name": "Python 3",
   "language": "python",
   "name": "python3"
  },
  "language_info": {
   "codemirror_mode": {
    "name": "ipython",
    "version": 3
   },
   "file_extension": ".py",
   "mimetype": "text/x-python",
   "name": "python",
   "nbconvert_exporter": "python",
   "pygments_lexer": "ipython3",
   "version": "3.6.5"
  }
 },
 "nbformat": 4,
 "nbformat_minor": 4
}
