{
 "cells": [
  {
   "cell_type": "markdown",
   "metadata": {},
   "source": [
    "# 1427_소트인사이드\n",
    "#### 알고리즘 분류 : 정렬"
   ]
  },
  {
   "cell_type": "code",
   "execution_count": 3,
   "metadata": {},
   "outputs": [
    {
     "name": "stdout",
     "output_type": "stream",
     "text": [
      "2143\n",
      "4321\n"
     ]
    }
   ],
   "source": [
    "nums = [int(_) for _ in input()]\n",
    "\n",
    "nums = sorted(nums,reverse=True)\n",
    "nums = [str(_) for _ in nums]\n",
    "print(''.join(nums))"
   ]
  },
  {
   "cell_type": "markdown",
   "metadata": {},
   "source": [
    "# 1002_터렛\n",
    "#### 알고리즘 분류: 기하학"
   ]
  },
  {
   "cell_type": "code",
   "execution_count": 24,
   "metadata": {},
   "outputs": [
    {
     "name": "stdout",
     "output_type": "stream",
     "text": [
      "3\n",
      "0 0 13 40 0 37\n",
      "2\n",
      "0 0 3 0 7 4\n",
      "1\n",
      "1 1 1 1 1 5\n",
      "0\n"
     ]
    }
   ],
   "source": [
    "t= int(input())\n",
    "from math import sqrt\n",
    "for i in range(t):\n",
    "    x_1,y_1,r_1, x_2,y_2,r_2 = map(int,input().split())\n",
    "    \n",
    "    dist = sqrt((x_2 - x_1)**2 + (y_2 - y_1)**2)\n",
    "    \n",
    "    if x_1 == x_2 and y_1 == y_2 and r_1 == r_2:\n",
    "        print(-1)\n",
    "    elif x_1 == x_2 and y_1 == y_2 and r_1 != r_2:\n",
    "        print(0)\n",
    "    elif r_1 + r_2 == dist or r_1 == r_2 + dist or r_2 == r_1 + dist:\n",
    "        print(1)\n",
    "    elif r_1 + r_2 < dist or r_1 > r_2+ dist or r_2> r_1 + dist:\n",
    "        print(0)\n",
    "    elif r_1 + r_2 > dist:\n",
    "        print(2)\n"
   ]
  },
  {
   "cell_type": "markdown",
   "metadata": {},
   "source": [
    "# 1003_피보나치 함수\n",
    "#### 알고리즘 분류: 다이나믹 프로그래밍"
   ]
  },
  {
   "cell_type": "code",
   "execution_count": null,
   "metadata": {},
   "outputs": [],
   "source": [
    "n = int(input())\n",
    "case = []\n",
    "one = [0]*41\n",
    "zero = [0] * 41\n",
    "\n",
    "zero[0:3]= [1 ,0 ,1]\n",
    "one[0:3] = [0,1,1]\n",
    "for _ in range(n):\n",
    "    case.append(int(input()))\n",
    "\n",
    "def fibonacci(n):\n",
    "    if n>=2:\n",
    "        for i in range(3,n+1):\n",
    "            zero[i]= zero[i-1] + zero[i-2]\n",
    "            one[i] = one[i-1] + one[i-2]\n",
    "for t in case :\n",
    "    fibonacci(t)\n",
    "    print(zero[t] , one[t])"
   ]
  },
  {
   "cell_type": "markdown",
   "metadata": {},
   "source": [
    "# 1912_연속합\n",
    "#### 알고리즘 분류: 다이나믹 프로그래밍"
   ]
  },
  {
   "cell_type": "code",
   "execution_count": null,
   "metadata": {},
   "outputs": [],
   "source": [
    "n = int(input())\n",
    "\n",
    "nums = list(map(int,input().split()))\n",
    "\n",
    "dp = [nums[0]]\n",
    "for i in range(1,len(nums)):\n",
    "    dp.append(max(dp[i-1] +nums[i] , nums[i]))\n",
    "    \n",
    "\n",
    "print(max(dp))"
   ]
  }
 ],
 "metadata": {
  "kernelspec": {
   "display_name": "Python 3",
   "language": "python",
   "name": "python3"
  },
  "language_info": {
   "codemirror_mode": {
    "name": "ipython",
    "version": 3
   },
   "file_extension": ".py",
   "mimetype": "text/x-python",
   "name": "python",
   "nbconvert_exporter": "python",
   "pygments_lexer": "ipython3",
   "version": "3.6.5"
  }
 },
 "nbformat": 4,
 "nbformat_minor": 4
}
