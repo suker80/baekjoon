{
 "cells": [
  {
   "cell_type": "markdown",
   "metadata": {},
   "source": [
    "# 10844번 쉬운 계단수 - Silver 1\n",
    "#### 알고리즘 분류: 다이나믹 프로그래밍\n",
    "\n",
    "https://www.acmicpc.net/problem/10844\n",
    "\n",
    "\n",
    "45656이란 수를 보자.\n",
    "\n",
    "이 수는 인접한 모든 자리수의 차이가 1이 난다. 이런 수를 계단 수라고 한다.\n",
    "\n",
    "세준이는 수의 길이가 N인 계단 수가 몇 개 있는지 궁금해졌다.\n",
    "\n",
    "N이 주어질 때, 길이가 N인 계단 수가 총 몇 개 있는지 구하는 프로그램을 작성하시오. (0으로 시작하는 수는 없다.)"
   ]
  },
  {
   "cell_type": "code",
   "execution_count": 5,
   "metadata": {},
   "outputs": [
    {
     "name": "stdout",
     "output_type": "stream",
     "text": [
      "100\n",
      "18404112\n"
     ]
    }
   ],
   "source": [
    "n = int(input())\n",
    "dp = [[0 for i in range(10)] for j in range(101)]\n",
    "for i in range(1, 10):\n",
    "    dp[1][i] = 1\n",
    "for i in range(2, n + 1):\n",
    "    for j in range(10):\n",
    "        if j == 0:\n",
    "            dp[i][j] = dp[i - 1][1]\n",
    "        elif j == 9:\n",
    "            dp[i][j] = dp[i - 1][8]\n",
    "        else:\n",
    "            dp[i][j] = dp[i - 1][j - 1] + dp[i - 1][j + 1]\n",
    "print(sum(dp[n]) % 1000000000)"
   ]
  },
  {
   "cell_type": "code",
   "execution_count": null,
   "metadata": {},
   "outputs": [],
   "source": []
  }
 ],
 "metadata": {
  "kernelspec": {
   "display_name": "Python 3",
   "language": "python",
   "name": "python3"
  },
  "language_info": {
   "codemirror_mode": {
    "name": "ipython",
    "version": 3
   },
   "file_extension": ".py",
   "mimetype": "text/x-python",
   "name": "python",
   "nbconvert_exporter": "python",
   "pygments_lexer": "ipython3",
   "version": "3.6.5"
  }
 },
 "nbformat": 4,
 "nbformat_minor": 4
}
