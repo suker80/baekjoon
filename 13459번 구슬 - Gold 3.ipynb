{
 "cells": [
  {
   "cell_type": "markdown",
   "metadata": {},
   "source": [
    "# 13459번 구슬 - Gold 3\n"
   ]
  },
  {
   "cell_type": "code",
   "execution_count": null,
   "metadata": {},
   "outputs": [],
   "source": [
    "n,m = map(int,input().split())\n",
    "from collections import deque\n",
    "import sys\n",
    "graph= [list(map(str,input())) for _ in range(n)]\n",
    "\n",
    "\n",
    "direction = [(1,0),(-1,0),(0,1),(0,-1)]\n",
    "\n",
    "visit = [[[[False] * m for i in range(n)] for i in range(m)] for i in range(n)]\n",
    "\n",
    "def move_bead(bead,d):\n",
    "\n",
    "    y,x =bead\n",
    "    dy,dx= d\n",
    "    c = 0\n",
    "    while graph[y+dy][x+dx] != '#' and graph[y][x] != 'O':\n",
    "        y+= dy\n",
    "        x+= dx\n",
    "        c += 1\n",
    "    return [y,x] ,c\n",
    "\n",
    "\n",
    "def solve():\n",
    "    for i in range(n):\n",
    "        for j in range(m):\n",
    "            if graph[i][j] == 'R':\n",
    "                r_pos = [i, j]\n",
    "            if graph[i][j] == 'B':\n",
    "                b_pos = [i, j]\n",
    "            if graph[i][j] == 'O':\n",
    "                o_pos = [i, j]\n",
    "\n",
    "    queue = deque([[r_pos,b_pos,1]])\n",
    "\n",
    "    visit[r_pos[0]][r_pos[1]][b_pos[0]][b_pos[1]] = 1\n",
    "    answer= 0\n",
    "    while queue:\n",
    "        r_pos , b_pos,cnt = queue.popleft()\n",
    "        if cnt > 10:\n",
    "            break\n",
    "        for d in direction:\n",
    "            dy,dx = d\n",
    "            next_r ,rc = move_bead(r_pos,d)\n",
    "            next_b ,bc= move_bead(b_pos, d)\n",
    "            if o_pos == next_b:\n",
    "                continue\n",
    "            if o_pos != next_b and o_pos == next_r:\n",
    "                print(1)\n",
    "                return\n",
    "            \n",
    "            if next_b == next_r:\n",
    "                if rc > bc:\n",
    "                    next_r[0] -= dy\n",
    "                    next_r[1] -= dx\n",
    "                else:\n",
    "                    next_b[0] -= dy\n",
    "                    next_b[1] -= dx\n",
    "\n",
    "\n",
    "            if visit[next_r[0]][next_r[1]][next_b[0]][next_b[1]] == 0 :\n",
    "                visit[next_r[0]][next_r[1]][next_b[0]][next_b[1]] =1\n",
    "                queue.append([next_r,next_b,cnt + 1 ])\n",
    "    print(answer)\n",
    "\n",
    "\n",
    "solve()"
   ]
  }
 ],
 "metadata": {
  "kernelspec": {
   "display_name": "Python 3",
   "language": "python",
   "name": "python3"
  },
  "language_info": {
   "codemirror_mode": {
    "name": "ipython",
    "version": 3
   },
   "file_extension": ".py",
   "mimetype": "text/x-python",
   "name": "python",
   "nbconvert_exporter": "python",
   "pygments_lexer": "ipython3",
   "version": "3.7.6"
  }
 },
 "nbformat": 4,
 "nbformat_minor": 4
}
