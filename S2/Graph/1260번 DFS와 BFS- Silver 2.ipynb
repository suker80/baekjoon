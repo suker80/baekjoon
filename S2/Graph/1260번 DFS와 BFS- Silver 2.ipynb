{
 "cells": [
  {
   "cell_type": "code",
   "execution_count": 118,
   "metadata": {},
   "outputs": [
    {
     "name": "stdout",
     "output_type": "stream",
     "text": [
      "1000 1 999\n",
      "999 1000\n",
      "999 1000\n",
      "999 1000\n"
     ]
    }
   ],
   "source": [
    "n , m , root = map(int,input().split(' '))\n",
    "graph = [[] for i in range(n+1)]\n",
    "for i in range(m):\n",
    "    u,m = [int(_) for _ in input().split(' ')]\n",
    "    graph[u].append(m)\n",
    "    graph[m].append(u)\n",
    "\n",
    "graph = [sorted(_) for _ in graph]\n",
    "\n",
    "from collections import deque\n",
    "def bfs(graph,start):\n",
    "    visit = []\n",
    "    queue = deque([start])\n",
    "    while queue:\n",
    "        n = queue.popleft()\n",
    "        if n not in visit:\n",
    "            visit.append(n)\n",
    "            queue.extend(graph[n])\n",
    "    return visit\n",
    "\n",
    "def dfs(graph,root):\n",
    "    visit = []\n",
    "    stack = [root]\n",
    "    \n",
    "    while stack:\n",
    "        node = stack.pop()\n",
    "        if node not in visit:\n",
    "            visit.append(node)\n",
    "            stack.extend(sorted(graph[node],reverse = True))\n",
    "    return visit\n",
    "\n",
    "print(*dfs(graph,root))\n",
    "print(*bfs(graph,root))"
   ]
  }
 ],
 "metadata": {
  "kernelspec": {
   "display_name": "Python 3",
   "language": "python",
   "name": "python3"
  },
  "language_info": {
   "codemirror_mode": {
    "name": "ipython",
    "version": 3
   },
   "file_extension": ".py",
   "mimetype": "text/x-python",
   "name": "python",
   "nbconvert_exporter": "python",
   "pygments_lexer": "ipython3",
   "version": "3.6.5"
  }
 },
 "nbformat": 4,
 "nbformat_minor": 4
}
