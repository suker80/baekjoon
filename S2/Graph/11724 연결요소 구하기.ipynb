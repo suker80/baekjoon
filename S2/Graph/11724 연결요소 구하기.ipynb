{
 "cells": [
  {
   "cell_type": "code",
   "execution_count": 178,
   "metadata": {},
   "outputs": [
    {
     "name": "stdout",
     "output_type": "stream",
     "text": [
      "6 5\n",
      "1 2\n",
      "2 5\n",
      "5 1\n",
      "3 4\n",
      "4 6\n"
     ]
    }
   ],
   "source": [
    "n,m = [int(_) for _ in input().split(' ')]\n",
    "graph = [[] for i in range(n+1)]\n",
    "for i in range(m):\n",
    "    u,m = [int(_) for _ in input().split(' ')]\n",
    "    graph[u].append(m)\n",
    "    graph[m].append(u)\n",
    "\n",
    "from collections import deque\n",
    "def bfs(graph,start):\n",
    "    visit = set([])\n",
    "    queue = deque([start])\n",
    "    while queue:\n",
    "        n = queue.popleft()\n",
    "        if n not in visit:\n",
    "            visit.add(n)\n",
    "            queue.extendleft(graph[n])\n",
    "    return visit\n",
    "\n",
    "not_visit = set(range(1,n+1))\n",
    "count = 0\n",
    "while not_visit:\n",
    "    start = not_visit.pop()\n",
    "    visit = bfs(graph,start)\n",
    "    count += 1\n",
    "    not_visit = not_visit.difference(visit)\n",
    "\n",
    "print(count)"
   ]
  },
  {
   "cell_type": "markdown",
   "metadata": {},
   "source": [
    "# 1153번"
   ]
  },
  {
   "cell_type": "code",
   "execution_count": null,
   "metadata": {},
   "outputs": [],
   "source": []
  }
 ],
 "metadata": {
  "kernelspec": {
   "display_name": "Python 3",
   "language": "python",
   "name": "python3"
  },
  "language_info": {
   "codemirror_mode": {
    "name": "ipython",
    "version": 3
   },
   "file_extension": ".py",
   "mimetype": "text/x-python",
   "name": "python",
   "nbconvert_exporter": "python",
   "pygments_lexer": "ipython3",
   "version": "3.6.5"
  }
 },
 "nbformat": 4,
 "nbformat_minor": 4
}
