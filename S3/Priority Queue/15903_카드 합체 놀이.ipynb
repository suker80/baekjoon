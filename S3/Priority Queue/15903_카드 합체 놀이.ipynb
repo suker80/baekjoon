{
 "cells": [
  {
   "cell_type": "code",
   "execution_count": null,
   "metadata": {},
   "outputs": [],
   "source": [
    "n,m = map(int,input().split())\n",
    "a_i = list(map(int,input().split()))\n",
    "\n",
    "import heapq\n",
    "\n",
    "heap = []\n",
    "for a in a_i:\n",
    "    heapq.heappush(heap,a)\n",
    "count = 1\n",
    "\n",
    "while count <= m:\n",
    "    x = heapq.heappop(heap)\n",
    "    y = heapq.heappop(heap)\n",
    "    result = x+y\n",
    "\n",
    "    heapq.heappush(heap,result)\n",
    "    heapq.heappush(heap,result)\n",
    "    count +=1\n",
    "\n",
    "print(sum(heap))"
   ]
  },
  {
   "cell_type": "code",
   "execution_count": null,
   "metadata": {},
   "outputs": [],
   "source": []
  },
  {
   "cell_type": "code",
   "execution_count": 2,
   "metadata": {},
   "outputs": [
    {
     "data": {
      "text/plain": [
       "[1, 2, 3, 4, 5]"
      ]
     },
     "execution_count": 2,
     "metadata": {},
     "output_type": "execute_result"
    }
   ],
   "source": [
    "a_i"
   ]
  }
 ],
 "metadata": {
  "kernelspec": {
   "display_name": "Python 3",
   "language": "python",
   "name": "python3"
  },
  "language_info": {
   "codemirror_mode": {
    "name": "ipython",
    "version": 3
   },
   "file_extension": ".py",
   "mimetype": "text/x-python",
   "name": "python",
   "nbconvert_exporter": "python",
   "pygments_lexer": "ipython3",
   "version": "3.6.5"
  }
 },
 "nbformat": 4,
 "nbformat_minor": 4
}
