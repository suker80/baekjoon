{
 "cells": [
  {
   "cell_type": "code",
   "execution_count": 175,
   "metadata": {},
   "outputs": [
    {
     "name": "stdout",
     "output_type": "stream",
     "text": [
      "50 29\n",
      "2\n"
     ]
    }
   ],
   "source": [
    "import math\n",
    "import random\n",
    "\n",
    "x,y = [int(_) for _ in input().split(' ')]\n",
    "\n",
    "rate= math.floor( 100 * y/x )\n",
    "new_rate = rate\n",
    "cnt = 0\n",
    "first = 0\n",
    "last = x\n",
    "interval = (first +last)/2\n",
    "while True:\n",
    "    if rate< 99:\n",
    "        new_rate = math.floor( 100 * (y+interval)  / (x+ interval))\n",
    "\n",
    "        if new_rate > rate:\n",
    "            temp_rate =  math.floor(100 * (y+interval -1 )  / (x+ interval -1))\n",
    "            if temp_rate == rate and temp_rate != new_rate :\n",
    "                print(int(interval))\n",
    "                break;\n",
    "            last = interval \n",
    "            interval = (first + last ) // 2\n",
    "#             print(\"right rate : {} new_rate {} temp_rate {} interval {}\".format(rate,new_rate,temp_rate,interval))\n",
    "\n",
    "        else:\n",
    "\n",
    "            temp_rate =  math.floor(100 * (y+interval +1 )  / (x+ interval +1))\n",
    "            if temp_rate != rate and temp_rate != new_rate :\n",
    "                print(int(interval + 1))\n",
    "                break;\n",
    "            first = interval\n",
    "            interval = (first + last) //2\n",
    "            \n",
    "#             print(\"left rate : {} new_rate {} temp_rate {} interval {}\".format(rate,new_rate,temp_rate,interval))\n",
    "    else:\n",
    "        print(-1)\n",
    "        break"
   ]
  }
 ],
 "metadata": {
  "kernelspec": {
   "display_name": "Python 3",
   "language": "python",
   "name": "python3"
  },
  "language_info": {
   "codemirror_mode": {
    "name": "ipython",
    "version": 3
   },
   "file_extension": ".py",
   "mimetype": "text/x-python",
   "name": "python",
   "nbconvert_exporter": "python",
   "pygments_lexer": "ipython3",
   "version": "3.6.5"
  }
 },
 "nbformat": 4,
 "nbformat_minor": 4
}
