{
 "cells": [
  {
   "cell_type": "code",
   "execution_count": null,
   "metadata": {},
   "outputs": [],
   "source": [
    "start_num =input()\n",
    "\n",
    "if int(start_num) < 10:\n",
    "    num = '0' + start_num\n",
    "    cnt = 0\n",
    "    new_num = str(int(num[0]) + int(num[1]))[-1]\n",
    "    num = num[1] + new_num\n",
    "    cnt +=1\n",
    "    \n",
    "else :\n",
    "    num = start_num\n",
    "    cnt = 0\n",
    "    new_num = str(int(num[0]) + int(num[1]))[-1]\n",
    "    num = num[1] + new_num\n",
    "    cnt +=1\n",
    "\n",
    "while int(start_num) is not int(num):\n",
    "    new_num = str(int(num[0]) + int(num[1]))[-1]\n",
    "    num = num[1] + new_num\n",
    "    cnt +=1\n",
    "print(cnt)"
   ]
  }
 ],
 "metadata": {
  "kernelspec": {
   "display_name": "Python 3",
   "language": "python",
   "name": "python3"
  },
  "language_info": {
   "codemirror_mode": {
    "name": "ipython",
    "version": 3
   },
   "file_extension": ".py",
   "mimetype": "text/x-python",
   "name": "python",
   "nbconvert_exporter": "python",
   "pygments_lexer": "ipython3",
   "version": "3.6.5"
  }
 },
 "nbformat": 4,
 "nbformat_minor": 4
}
