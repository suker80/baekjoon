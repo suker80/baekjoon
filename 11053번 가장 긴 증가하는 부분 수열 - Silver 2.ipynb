{
 "cells": [
  {
   "cell_type": "markdown",
   "metadata": {},
   "source": [
    "# 11053번 가장 긴 증가하는 부분 수열 - Silver 2\n",
    "\n",
    "#### 알고리즘 분류: 다이나믹 프로그래밍\n",
    "\n",
    "\n",
    "https://www.acmicpc.net/problem/11053\n",
    "\n",
    "수열 A가 주어졌을 때, 가장 긴 증가하는 부분 수열을 구하는 프로그램을 작성하시오.\n",
    "\n",
    "예를 들어, 수열 A = {10, 20, 10, 30, 20, 50} 인 경우에 가장 긴 증가하는 부분 수열은 A = {10, 20, 10, 30, 20, 50} 이고, 길이는 4이다."
   ]
  },
  {
   "cell_type": "code",
   "execution_count": 18,
   "metadata": {},
   "outputs": [
    {
     "name": "stdout",
     "output_type": "stream",
     "text": [
      "6\n",
      "10 20 10 30 20 50\n",
      "4\n"
     ]
    }
   ],
   "source": [
    "n = int(input())\n",
    "\n",
    "arr = list(map(int,input().split()))\n",
    "\n",
    "dp= [arr[0]]\n",
    "def lowerBound(arr,key):\n",
    "    left, right = 0 ,len(arr)-1\n",
    "    \n",
    "    while right>left:\n",
    "        mid = (left+right) // 2\n",
    "        \n",
    "        if arr[mid] < key:\n",
    "            left= mid +1 \n",
    "        elif arr[mid] > key:\n",
    "            right = mid\n",
    "        elif arr[mid] == key:\n",
    "            right=mid \n",
    "    return right\n",
    "for i in range(1,n):\n",
    "    \n",
    "    if dp[-1] < arr[i]:\n",
    "        dp.append(arr[i])\n",
    "    elif dp[-1] > arr[i]:\n",
    "        \n",
    "        idx = lowerBound(dp,arr[i])\n",
    "        dp[idx] = arr[i]\n",
    "print(len(dp))"
   ]
  }
 ],
 "metadata": {
  "kernelspec": {
   "display_name": "Python 3",
   "language": "python",
   "name": "python3"
  },
  "language_info": {
   "codemirror_mode": {
    "name": "ipython",
    "version": 3
   },
   "file_extension": ".py",
   "mimetype": "text/x-python",
   "name": "python",
   "nbconvert_exporter": "python",
   "pygments_lexer": "ipython3",
   "version": "3.6.5"
  }
 },
 "nbformat": 4,
 "nbformat_minor": 4
}
