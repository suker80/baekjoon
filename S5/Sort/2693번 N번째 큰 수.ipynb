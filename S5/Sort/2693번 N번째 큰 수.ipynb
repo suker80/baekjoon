{
 "cells": [
  {
   "cell_type": "code",
   "execution_count": null,
   "metadata": {},
   "outputs": [],
   "source": [
    "T = int(input())\n",
    "A = []\n",
    "N= 3 \n",
    "for i in range(T):\n",
    "    A.append([int(_) for _ in input().split(' ')])\n",
    "    \n",
    "\n",
    "def mergeSort(x):\n",
    "    if len(x) > 1:\n",
    "        mid = len(x)//2\n",
    "        lx, rx = x[:mid], x[mid:]\n",
    "        mergeSort(lx)\n",
    "        mergeSort(rx)\n",
    "\n",
    "        li, ri, i = 0, 0, 0\n",
    "        while li < len(lx) and ri < len(rx):\n",
    "            if lx[li] < rx[ri]:\n",
    "                x[i] = lx[li]\n",
    "                li += 1\n",
    "            else:\n",
    "                x[i] = rx[ri]\n",
    "                ri += 1\n",
    "            i += 1\n",
    "        x[i:] = lx[li:] if li != len(lx) else rx[ri:]\n",
    "        return x\n",
    "for i in range(T):\n",
    "    A[i] = mergeSort(A[i])\n",
    "    print(A[i][-3])"
   ]
  }
 ],
 "metadata": {
  "kernelspec": {
   "display_name": "Python 3",
   "language": "python",
   "name": "python3"
  },
  "language_info": {
   "codemirror_mode": {
    "name": "ipython",
    "version": 3
   },
   "file_extension": ".py",
   "mimetype": "text/x-python",
   "name": "python",
   "nbconvert_exporter": "python",
   "pygments_lexer": "ipython3",
   "version": "3.6.5"
  }
 },
 "nbformat": 4,
 "nbformat_minor": 4
}
