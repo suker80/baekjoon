{
 "cells": [
  {
   "cell_type": "code",
   "execution_count": null,
   "metadata": {},
   "outputs": [],
   "source": [
    "N = [char for char in input()]\n",
    "\n",
    "count = [N.count(str(i)) for i in range(0,10)]\n",
    "\n",
    "if count.index(max(count)) not in [6,9]:\n",
    "    need_set = max(count)\n",
    "else:\n",
    "    need_set = int((count[6] + count[9])/2 + 0.5 )\n",
    "print(need_set)"
   ]
  }
 ],
 "metadata": {
  "kernelspec": {
   "display_name": "Python 3",
   "language": "python",
   "name": "python3"
  },
  "language_info": {
   "codemirror_mode": {
    "name": "ipython",
    "version": 3
   },
   "file_extension": ".py",
   "mimetype": "text/x-python",
   "name": "python",
   "nbconvert_exporter": "python",
   "pygments_lexer": "ipython3",
   "version": "3.6.5"
  }
 },
 "nbformat": 4,
 "nbformat_minor": 4
}
