{
 "cells": [
  {
   "cell_type": "code",
   "execution_count": 11,
   "metadata": {},
   "outputs": [
    {
     "name": "stdout",
     "output_type": "stream",
     "text": [
      "10\n",
      "divide 2 5.0\n",
      "minus 1  4.0\n",
      "divide 2 2.0\n",
      "divide 2 1.0\n",
      "4\n"
     ]
    }
   ],
   "source": [
    "N = int(input())\n",
    "dp = [0,0,1,1] \n",
    "for i in range(4, N+1) :\n",
    "    dp.append(dp[i-1]+1)\n",
    "    if i%2==0:\n",
    "        dp[i]=min(dp[i],dp[i//2]+1)\n",
    "    if i%3==0 :\n",
    "        dp[i]=min(dp[i],dp[i//3]+1)\n",
    "print(dp[N])"
   ]
  }
 ],
 "metadata": {
  "kernelspec": {
   "display_name": "Python 3",
   "language": "python",
   "name": "python3"
  },
  "language_info": {
   "codemirror_mode": {
    "name": "ipython",
    "version": 3
   },
   "file_extension": ".py",
   "mimetype": "text/x-python",
   "name": "python",
   "nbconvert_exporter": "python",
   "pygments_lexer": "ipython3",
   "version": "3.6.5"
  }
 },
 "nbformat": 4,
 "nbformat_minor": 4
}
