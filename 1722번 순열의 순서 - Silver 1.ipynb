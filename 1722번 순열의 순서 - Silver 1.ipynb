{
 "cells": [
  {
   "cell_type": "markdown",
   "metadata": {},
   "source": [
    "# 1722번 순열의 순서\n",
    "#### 알고리즘 분류: 수학 ,조합론\n",
    "\n",
    "https://www.acmicpc.net/problem/1722\n",
    "\n",
    "1부터 N까지의 수를 임의로 배열한 순열은 총 N! = N×(N-1)×…×2×1 가지가 있다.\n",
    "\n",
    "임의의 순열은 정렬을 할 수 있다. 예를 들어  N=3인 경우 {1, 2, 3}, {1, 3, 2}, {2, 1, 3}, {2, 3, 1}, {3, 1, 2}, {3, 2, 1}의 순서로 생각할 수 있다. 첫 번째 수가 작은 것이 순서상에서 앞서며, 첫 번째 수가 같으면 두 번째 수가 작은 것이, 두 번째 수도 같으면 세 번째 수가 작은 것이….\n",
    "\n",
    "N이 주어지면, 아래의 두 소문제 중에 하나를 풀어야 한다. k가 주어지면 k번째 순열을 구하고, 임의의 순열이 주어지면 이 순열이 몇 번째 순열인지를 출력하는 프로그램을 작성하시오."
   ]
  },
  {
   "cell_type": "code",
   "execution_count": 57,
   "metadata": {},
   "outputs": [
    {
     "name": "stdout",
     "output_type": "stream",
     "text": [
      "20\n",
      "1 243290200817\n"
     ]
    }
   ],
   "source": [
    "n  =int(input())\n",
    "q = list(map(int,input().split()))"
   ]
  },
  {
   "cell_type": "code",
   "execution_count": 58,
   "metadata": {},
   "outputs": [
    {
     "name": "stdout",
     "output_type": "stream",
     "text": [
      "1 2 3 4 5 8 18 6 19 20 10 14 9 11 16 7 15 17 12 13\n"
     ]
    }
   ],
   "source": [
    "fact = [1] * 21\n",
    "fact[0] = 1\n",
    "for i in range(2,n+1):\n",
    "    fact[i] = fact[i-1] * i \n",
    "if q[0] == 1:\n",
    "    \n",
    "    q= q[1] - 1\n",
    "    nums = list(range(1,n+1))\n",
    "    result = []\n",
    "    for i in range(n,0,-1):\n",
    "        d = q//fact[i-1]\n",
    "        q= q % fact[i-1]\n",
    "\n",
    "        pop = nums.pop(d)\n",
    "        result.append(pop)\n",
    "    print(*result)"
   ]
  },
  {
   "cell_type": "code",
   "execution_count": 60,
   "metadata": {},
   "outputs": [
    {
     "data": {
      "text/plain": [
       "1"
      ]
     },
     "execution_count": 60,
     "metadata": {},
     "output_type": "execute_result"
    }
   ],
   "source": [
    "i"
   ]
  },
  {
   "cell_type": "code",
   "execution_count": 56,
   "metadata": {},
   "outputs": [
    {
     "name": "stdout",
     "output_type": "stream",
     "text": [
      "2432902008176640000\n"
     ]
    }
   ],
   "source": [
    "if q[0] == 2:\n",
    "    q = q[1:]\n",
    "    nums = list(range(1,n+1))\n",
    "    result = 1 \n",
    "\n",
    "    for i,v in enumerate(q):\n",
    "\n",
    "        idx = nums.index(v)\n",
    "        nums.pop(idx)\n",
    "        result += idx * fact[n-i-1]\n",
    "    print(result)"
   ]
  },
  {
   "cell_type": "code",
   "execution_count": 43,
   "metadata": {},
   "outputs": [
    {
     "data": {
      "text/plain": [
       "[1, 1, 1, 1, 1, 1, 1, 1, 1, 1, 1, 1, 1, 1, 1, 1, 1, 1, 1, 1, 1]"
      ]
     },
     "execution_count": 43,
     "metadata": {},
     "output_type": "execute_result"
    }
   ],
   "source": [
    "fact"
   ]
  },
  {
   "cell_type": "code",
   "execution_count": null,
   "metadata": {},
   "outputs": [],
   "source": []
  }
 ],
 "metadata": {
  "kernelspec": {
   "display_name": "Python 3",
   "language": "python",
   "name": "python3"
  },
  "language_info": {
   "codemirror_mode": {
    "name": "ipython",
    "version": 3
   },
   "file_extension": ".py",
   "mimetype": "text/x-python",
   "name": "python",
   "nbconvert_exporter": "python",
   "pygments_lexer": "ipython3",
   "version": "3.6.5"
  }
 },
 "nbformat": 4,
 "nbformat_minor": 4
}
