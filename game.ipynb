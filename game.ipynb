{
 "cells": [
  {
   "cell_type": "code",
   "execution_count": 175,
   "metadata": {},
   "outputs": [
    {
     "name": "stdout",
     "output_type": "stream",
     "text": [
      "50 29\n",
      "2\n"
     ]
    }
   ],
   "source": [
    "import math\n",
    "import random\n",
    "\n",
    "x,y = [int(_) for _ in input().split(' ')]\n",
    "\n",
    "rate= math.floor( 100 * y/x )\n",
    "new_rate = rate\n",
    "cnt = 0\n",
    "first = 0\n",
    "last = x\n",
    "interval = (first +last)/2\n",
    "while True:\n",
    "    if rate< 99:\n",
    "        new_rate = math.floor( 100 * (y+interval)  / (x+ interval))\n",
    "\n",
    "        if new_rate > rate:\n",
    "            temp_rate =  math.floor(100 * (y+interval -1 )  / (x+ interval -1))\n",
    "            if temp_rate == rate and temp_rate != new_rate :\n",
    "                print(int(interval))\n",
    "                break;\n",
    "            last = interval \n",
    "            interval = (first + last ) // 2\n",
    "#             print(\"right rate : {} new_rate {} temp_rate {} interval {}\".format(rate,new_rate,temp_rate,interval))\n",
    "\n",
    "        else:\n",
    "\n",
    "            temp_rate =  math.floor(100 * (y+interval +1 )  / (x+ interval +1))\n",
    "            if temp_rate != rate and temp_rate != new_rate :\n",
    "                print(int(interval + 1))\n",
    "                break;\n",
    "            first = interval\n",
    "            interval = (first + last) //2\n",
    "            \n",
    "#             print(\"left rate : {} new_rate {} temp_rate {} interval {}\".format(rate,new_rate,temp_rate,interval))\n",
    "    else:\n",
    "        print(-1)\n",
    "        break"
   ]
  },
  {
   "cell_type": "code",
   "execution_count": 168,
   "metadata": {},
   "outputs": [],
   "source": [
    "import math\n",
    "import random\n",
    "\n",
    "x = random.randint(0,1e+9)\n",
    "y = random.randint(0,x)"
   ]
  },
  {
   "cell_type": "code",
   "execution_count": 176,
   "metadata": {},
   "outputs": [
    {
     "ename": "TypeError",
     "evalue": "object of type 'int' has no len()",
     "output_type": "error",
     "traceback": [
      "\u001b[1;31m---------------------------------------------------------------------------\u001b[0m",
      "\u001b[1;31mTypeError\u001b[0m                                 Traceback (most recent call last)",
      "\u001b[1;32m<ipython-input-176-1cf91bb60cc0>\u001b[0m in \u001b[0;36m<module>\u001b[1;34m\u001b[0m\n\u001b[1;32m----> 1\u001b[1;33m \u001b[0mlen\u001b[0m\u001b[1;33m(\u001b[0m\u001b[1;36m1\u001b[0m\u001b[1;33m)\u001b[0m\u001b[1;33m\u001b[0m\u001b[0m\n\u001b[0m",
      "\u001b[1;31mTypeError\u001b[0m: object of type 'int' has no len()"
     ]
    }
   ],
   "source": [
    "len(1)"
   ]
  },
  {
   "cell_type": "code",
   "execution_count": 150,
   "metadata": {},
   "outputs": [
    {
     "name": "stdout",
     "output_type": "stream",
     "text": [
      "3370786\n"
     ]
    }
   ],
   "source": [
    "# x,y = [int(_) for _ in input().split(' ')]\n",
    "import math\n",
    "rate= math.floor((y/x * 100))\n",
    "new_rate = rate\n",
    "cnt = 0\n",
    "while rate == new_rate:\n",
    "    cnt += 1\n",
    "    x += 1\n",
    "    y += 1\n",
    "    new_rate= math.floor((y/x) * 100)\n",
    "print(cnt)"
   ]
  },
  {
   "cell_type": "code",
   "execution_count": 180,
   "metadata": {},
   "outputs": [],
   "source": [
    "a =[[]]"
   ]
  },
  {
   "cell_type": "code",
   "execution_count": 181,
   "metadata": {},
   "outputs": [],
   "source": [
    "a.append([1,3])"
   ]
  },
  {
   "cell_type": "code",
   "execution_count": 182,
   "metadata": {},
   "outputs": [
    {
     "data": {
      "text/plain": [
       "[[], [1, 3]]"
      ]
     },
     "execution_count": 182,
     "metadata": {},
     "output_type": "execute_result"
    }
   ],
   "source": [
    "a"
   ]
  },
  {
   "cell_type": "code",
   "execution_count": null,
   "metadata": {},
   "outputs": [],
   "source": []
  }
 ],
 "metadata": {
  "kernelspec": {
   "display_name": "Python 3",
   "language": "python",
   "name": "python3"
  },
  "language_info": {
   "codemirror_mode": {
    "name": "ipython",
    "version": 3
   },
   "file_extension": ".py",
   "mimetype": "text/x-python",
   "name": "python",
   "nbconvert_exporter": "python",
   "pygments_lexer": "ipython3",
   "version": "3.6.5"
  }
 },
 "nbformat": 4,
 "nbformat_minor": 4
}
