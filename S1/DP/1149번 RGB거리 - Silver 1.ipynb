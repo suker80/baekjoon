{
 "cells": [
  {
   "cell_type": "markdown",
   "metadata": {},
   "source": [
    "# 1149번 RGB거리 - Silver 1\n",
    "\n",
    "#### 알고리즘 분류: 다이나믹 프로그래밍\n",
    "\n",
    "https://www.acmicpc.net/problem/1149\n",
    "\n",
    "RGB거리에는 집이 N개 있다. 거리는 선분으로 나타낼 수 있고, 1번 집부터 N번 집이 순서대로 있다.\n",
    "\n",
    "집은 빨강, 초록, 파랑 중 하나의 색으로 칠해야 한다. 각각의 집을 빨강, 초록, 파랑으로 칠하는 비용이 주어졌을 때, 아래 규칙을 만족하면서 모든 집을 칠하는 비용의 최솟값을 구해보자.\n",
    "\n",
    "1번 집의 색은 2번 집의 색과 같지 않아야 한다.\n",
    "\n",
    "N번 집의 색은 N-1번 집의 색과 같지 않아야 한다.\n",
    "\n",
    "i(2 ≤ i ≤ N-1)번 집의 색은 i-1번, i+1번 집의 색과 같지 않아야 한다."
   ]
  },
  {
   "cell_type": "code",
   "execution_count": null,
   "metadata": {},
   "outputs": [],
   "source": [
    "n = int(input())\n",
    "street = [ list(map(int,input().split()))for i in range(n)]\n",
    "\n",
    "dp = [[0] *3 for _ in range(n)]\n",
    "dp[0][:] = street[0][:]\n",
    "\n",
    "for i in range(1,n):\n",
    "    \n",
    "    dp[i][0] = min(dp[i-1][1] + street[i][0],dp[i-1][2] + street[i][0])\n",
    "    dp[i][1] = min(dp[i-1][0] + street[i][1],dp[i-1][2] + street[i][1])\n",
    "    dp[i][2] = min(dp[i-1][0] + street[i][2],dp[i-1][1] + street[i][2])\n",
    "\n",
    "    \n",
    "print(min(dp[-1]))"
   ]
  }
 ],
 "metadata": {
  "kernelspec": {
   "display_name": "Python 3",
   "language": "python",
   "name": "python3"
  },
  "language_info": {
   "codemirror_mode": {
    "name": "ipython",
    "version": 3
   },
   "file_extension": ".py",
   "mimetype": "text/x-python",
   "name": "python",
   "nbconvert_exporter": "python",
   "pygments_lexer": "ipython3",
   "version": "3.6.5"
  }
 },
 "nbformat": 4,
 "nbformat_minor": 4
}
