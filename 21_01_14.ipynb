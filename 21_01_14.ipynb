{
 "cells": [
  {
   "cell_type": "markdown",
   "metadata": {},
   "source": [
    "# 1427_소트인사이드\n",
    "#### 알고리즘 분류 : 정렬\n",
    "https://www.acmicpc.net/problem/1427\n",
    "\n",
    "배열을 정렬하는 것은 쉽다. 수가 주어지면, 그 수의 각 자리수를 내림차순으로 정렬해보자.\n",
    "\n"
   ]
  },
  {
   "cell_type": "code",
   "execution_count": 3,
   "metadata": {},
   "outputs": [
    {
     "name": "stdout",
     "output_type": "stream",
     "text": [
      "2143\n",
      "4321\n"
     ]
    }
   ],
   "source": [
    "nums = [int(_) for _ in input()]\n",
    "\n",
    "nums = sorted(nums,reverse=True)\n",
    "nums = [str(_) for _ in nums]\n",
    "print(''.join(nums))"
   ]
  },
  {
   "cell_type": "markdown",
   "metadata": {},
   "source": [
    "# 1002_터렛\n",
    "#### 알고리즘 분류: 기하학\n",
    "\n",
    "https://www.acmicpc.net/problem/1002\n",
    "\n",
    "조규현과 백승환은 터렛에 근무하는 직원이다. 하지만 워낙 존재감이 없어서 인구수는 차지하지 않는다. 다음은 조규현과 백승환의 사진이다.\n",
    "\n",
    "\n",
    "\n",
    "이석원은 조규현과 백승환에게 상대편 마린(류재명)의 위치를 계산하라는 명령을 내렸다. 조규현과 백승환은 각각 자신의 터렛 위치에서 현재 적까지의 거리를 계산했다.\n",
    "\n",
    "조규현의 좌표 (x1, y1)와 백승환의 좌표 (x2, y2)가 주어지고, 조규현이 계산한 류재명과의 거리 r1과 백승환이 계산한 류재명과의 거리 r2가 주어졌을 때, 류재명이 있을 수 있는 좌표의 수를 출력하는 프로그램을 작성하시오."
   ]
  },
  {
   "cell_type": "code",
   "execution_count": 24,
   "metadata": {},
   "outputs": [
    {
     "name": "stdout",
     "output_type": "stream",
     "text": [
      "3\n",
      "0 0 13 40 0 37\n",
      "2\n",
      "0 0 3 0 7 4\n",
      "1\n",
      "1 1 1 1 1 5\n",
      "0\n"
     ]
    }
   ],
   "source": [
    "t= int(input())\n",
    "from math import sqrt\n",
    "for i in range(t):\n",
    "    x_1,y_1,r_1, x_2,y_2,r_2 = map(int,input().split())\n",
    "    \n",
    "    dist = sqrt((x_2 - x_1)**2 + (y_2 - y_1)**2)\n",
    "    \n",
    "    if x_1 == x_2 and y_1 == y_2 and r_1 == r_2:\n",
    "        print(-1)\n",
    "    elif x_1 == x_2 and y_1 == y_2 and r_1 != r_2:\n",
    "        print(0)\n",
    "    elif r_1 + r_2 == dist or r_1 == r_2 + dist or r_2 == r_1 + dist:\n",
    "        print(1)\n",
    "    elif r_1 + r_2 < dist or r_1 > r_2+ dist or r_2> r_1 + dist:\n",
    "        print(0)\n",
    "    elif r_1 + r_2 > dist:\n",
    "        print(2)\n"
   ]
  },
  {
   "cell_type": "markdown",
   "metadata": {},
   "source": [
    "# 1003_피보나치 함수\n",
    "#### 알고리즘 분류: 다이나믹 프로그래밍\n",
    "\n",
    "fibonacci(3)을 호출하면 다음과 같은 일이 일어난다.\n",
    "\n",
    "fibonacci(3)은 fibonacci(2)와 fibonacci(1) (첫 번째 호출)을 호출한다.\n",
    "\n",
    "fibonacci(2)는 fibonacci(1) (두 번째 호출)과 fibonacci(0)을 호출한다.\n",
    "\n",
    "두 번째 호출한 fibonacci(1)은 1을 출력하고 1을 리턴한다.\n",
    "\n",
    "fibonacci(0)은 0을 출력하고, 0을 리턴한다.\n",
    "\n",
    "fibonacci(2)는 fibonacci(1)과 fibonacci(0)의 결과를 얻고, 1을 리턴한다.\n",
    "\n",
    "첫 번째 호출한 fibonacci(1)은 1을 출력하고, 1을 리턴한다.\n",
    "\n",
    "fibonacci(3)은 fibonacci(2)와 fibonacci(1)의 결과를 얻고, 2를 리턴한다.\n",
    "\n",
    "1은 2번 출력되고, 0은 1번 출력된다. N이 주어졌을 때, fibonacci(N)을 호출했을 때, 0과 1이 각각 몇 번 출력되는지 구하는 프로그램을 작성하시오."
   ]
  },
  {
   "cell_type": "code",
   "execution_count": null,
   "metadata": {},
   "outputs": [],
   "source": [
    "n = int(input())\n",
    "case = []\n",
    "one = [0]*41\n",
    "zero = [0] * 41\n",
    "\n",
    "zero[0:3]= [1 ,0 ,1]\n",
    "one[0:3] = [0,1,1]\n",
    "for _ in range(n):\n",
    "    case.append(int(input()))\n",
    "\n",
    "def fibonacci(n):\n",
    "    if n>=2:\n",
    "        for i in range(3,n+1):\n",
    "            zero[i]= zero[i-1] + zero[i-2]\n",
    "            one[i] = one[i-1] + one[i-2]\n",
    "for t in case :\n",
    "    fibonacci(t)\n",
    "    print(zero[t] , one[t])"
   ]
  },
  {
   "cell_type": "markdown",
   "metadata": {},
   "source": [
    "# 1912_연속합\n",
    "#### 알고리즘 분류: 다이나믹 프로그래밍\n",
    "\n",
    "https://www.acmicpc.net/problem/1912\n",
    "\n",
    "n개의 정수로 이루어진 임의의 수열이 주어진다. 우리는 이 중 연속된 몇 개의 수를 선택해서 구할 수 있는 합 중 가장 큰 합을 구하려고 한다. 단, 수는 한 개 이상 선택해야 한다.\n",
    "\n",
    "예를 들어서 10, -4, 3, 1, 5, 6, -35, 12, 21, -1 이라는 수열이 주어졌다고 하자. 여기서 정답은 12+21인 33이 정답이 된다."
   ]
  },
  {
   "cell_type": "code",
   "execution_count": null,
   "metadata": {},
   "outputs": [],
   "source": [
    "n = int(input())\n",
    "\n",
    "nums = list(map(int,input().split()))\n",
    "\n",
    "dp = [nums[0]]\n",
    "for i in range(1,len(nums)):\n",
    "    dp.append(max(dp[i-1] +nums[i] , nums[i]))\n",
    "    \n",
    "\n",
    "print(max(dp))"
   ]
  },
  {
   "cell_type": "markdown",
   "metadata": {},
   "source": [
    "# 1149번 RGB거리\n",
    "\n",
    "#### 알고리즘 분류: 다이나믹 프로그래밍\n",
    "\n",
    "https://www.acmicpc.net/problem/1149\n",
    "\n",
    "RGB거리에는 집이 N개 있다. 거리는 선분으로 나타낼 수 있고, 1번 집부터 N번 집이 순서대로 있다.\n",
    "\n",
    "집은 빨강, 초록, 파랑 중 하나의 색으로 칠해야 한다. 각각의 집을 빨강, 초록, 파랑으로 칠하는 비용이 주어졌을 때, 아래 규칙을 만족하면서 모든 집을 칠하는 비용의 최솟값을 구해보자.\n",
    "\n",
    "1번 집의 색은 2번 집의 색과 같지 않아야 한다.\n",
    "\n",
    "N번 집의 색은 N-1번 집의 색과 같지 않아야 한다.\n",
    "\n",
    "i(2 ≤ i ≤ N-1)번 집의 색은 i-1번, i+1번 집의 색과 같지 않아야 한다."
   ]
  },
  {
   "cell_type": "code",
   "execution_count": null,
   "metadata": {},
   "outputs": [],
   "source": [
    "n = int(input())\n",
    "street = [ list(map(int,input().split()))for i in range(n)]\n",
    "\n",
    "dp = [[0] *3 for _ in range(n)]\n",
    "dp[0][:] = street[0][:]\n",
    "\n",
    "for i in range(1,n):\n",
    "    \n",
    "    dp[i][0] = min(dp[i-1][1] + street[i][0],dp[i-1][2] + street[i][0])\n",
    "    dp[i][1] = min(dp[i-1][0] + street[i][1],dp[i-1][2] + street[i][1])\n",
    "    dp[i][2] = min(dp[i-1][0] + street[i][2],dp[i-1][1] + street[i][2])\n",
    "\n",
    "    \n",
    "print(min(dp[-1]))"
   ]
  },
  {
   "cell_type": "code",
   "execution_count": null,
   "metadata": {},
   "outputs": [],
   "source": []
  }
 ],
 "metadata": {
  "kernelspec": {
   "display_name": "Python 3",
   "language": "python",
   "name": "python3"
  },
  "language_info": {
   "codemirror_mode": {
    "name": "ipython",
    "version": 3
   },
   "file_extension": ".py",
   "mimetype": "text/x-python",
   "name": "python",
   "nbconvert_exporter": "python",
   "pygments_lexer": "ipython3",
   "version": "3.6.5"
  }
 },
 "nbformat": 4,
 "nbformat_minor": 4
}
