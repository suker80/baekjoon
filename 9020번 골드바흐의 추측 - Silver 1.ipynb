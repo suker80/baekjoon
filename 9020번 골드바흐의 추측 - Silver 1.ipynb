{
 "cells": [
  {
   "cell_type": "markdown",
   "metadata": {},
   "source": [
    "# 9020번 골드바흐의 추측 - Silver 1\n",
    "#### 알고리즘 분류: 에라토스테네스의 체 , 정수론 ,수학 소수 판정\n",
    "\n",
    "1보다 큰 자연수 중에서  1과 자기 자신을 제외한 약수가 없는 자연수를 소수라고 한다. 예를 들어, 5는 1과 5를 제외한 약수가 없기 때문에 소수이다. 하지만, 6은 6 = 2 × 3 이기 때문에 소수가 아니다.\n",
    "\n",
    "골드바흐의 추측은 유명한 정수론의 미해결 문제로, 2보다 큰 모든 짝수는 두 소수의 합으로 나타낼 수 있다는 것이다. 이러한 수를 골드바흐 수라고 한다. 또, 짝수를 두 소수의 합으로 나타내는 표현을 그 수의 골드바흐 파티션이라고 한다. 예를 들면, 4 = 2 + 2, 6 = 3 + 3, 8 = 3 + 5, 10 = 5 + 5, 12 = 5 + 7, 14 = 3 + 11, 14 = 7 + 7이다. 10000보다 작거나 같은 모든 짝수 n에 대한 골드바흐 파티션은 존재한다.\n",
    "\n",
    "2보다 큰 짝수 n이 주어졌을 때, n의 골드바흐 파티션을 출력하는 프로그램을 작성하시오. 만약 가능한 n의 골드바흐 파티션이 여러 가지인 경우에는 두 소수의 차이가 가장 작은 것을 출력한다."
   ]
  },
  {
   "cell_type": "code",
   "execution_count": 11,
   "metadata": {},
   "outputs": [
    {
     "name": "stdout",
     "output_type": "stream",
     "text": [
      "3\n",
      "8\n",
      "(5, 3)\n",
      "10\n",
      "(7, 3)\n",
      "16\n",
      "(13, 3)\n"
     ]
    }
   ],
   "source": [
    "t = int(input())\n",
    "n = 10000\n",
    "\n",
    "\n",
    "sieve = [True] * n\n",
    "m = int(n ** 0.5)\n",
    "for i in range(2, m + 1):\n",
    "    if sieve[i] == True:           \n",
    "        for j in range(i+i, n, i): \n",
    "            sieve[j] = False\n",
    "\n",
    "sieve = [i for i in range(2, n) if sieve[i] == True]\n",
    "\n",
    "for _ in range(t):\n",
    "    even_num = int(input())\n",
    "    \n",
    "    min_val = [10000,0]\n",
    "    for i in range(len(sieve)):\n",
    "        if (even_num - sieve[i]) in sieve:\n",
    "            min_val[0] =  min(min_val[0],abs(even_num-(sieve[i] * 2)))\n",
    "            min_val[1] = (sieve[i],even_num - sieve[i] )\n",
    "    print(min_val[1])"
   ]
  }
 ],
 "metadata": {
  "kernelspec": {
   "display_name": "Python 3",
   "language": "python",
   "name": "python3"
  },
  "language_info": {
   "codemirror_mode": {
    "name": "ipython",
    "version": 3
   },
   "file_extension": ".py",
   "mimetype": "text/x-python",
   "name": "python",
   "nbconvert_exporter": "python",
   "pygments_lexer": "ipython3",
   "version": "3.6.5"
  }
 },
 "nbformat": 4,
 "nbformat_minor": 4
}
